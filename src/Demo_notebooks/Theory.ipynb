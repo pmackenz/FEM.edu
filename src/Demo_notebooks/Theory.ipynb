{
 "cells": [
  {
   "cell_type": "markdown",
   "id": "ca448038",
   "metadata": {},
   "source": [
    "## J2 Plasticity for Plane Stress"
   ]
  },
  {
   "cell_type": "markdown",
   "id": "25e09261",
   "metadata": {},
   "source": [
    "### elastic predictor\n",
    "\n",
    "$$\n",
    "   \\mathbb{C} = \\frac{E t}{(1 - \\nu^2)} \\left[ \\begin{array}{ccc}\n",
    "      1 & \\nu & 0 \\\\\n",
    "      \\nu & 1 & 0 \\\\\n",
    "      0 & 0 & \\frac{1-\\nu}{2} \n",
    "   \\end{array} \\right]\n",
    "$$\n",
    "\n",
    "$$\n",
    "   {\\bf \\sigma}^{e} = \\mathbb{C} \\, ({\\bf\\varepsilon} - {\\bf\\varepsilon}^p_n)\n",
    "$$\n",
    "with\n",
    "$$\n",
    "   {\\bf \\sigma}^e = \\left\\{ \\begin{array}{c}\n",
    "      \\sigma^e_{xx} \\\\ \\sigma^e_{yy} \\\\ \\sigma^e_{xy} \n",
    "   \\end{array} \\right\\}\n",
    "   \\qquad\\text{and}\\qquad\n",
    "   {\\bf \\varepsilon} = \\left\\{ \\begin{array}{c}\n",
    "      \\varepsilon_{xx} \\\\ \\varepsilon_{yy} \\\\ 2\\,\\varepsilon_{xy} \n",
    "   \\end{array} \\right\\}\n",
    "$$\n",
    "where $ 2\\,\\varepsilon_{xy} = \\gamma_{xy}$"
   ]
  },
  {
   "cell_type": "markdown",
   "id": "6ce16899",
   "metadata": {},
   "source": [
    "### yield check\n",
    "\n",
    "$$\n",
    "   f({\\bf\\sigma}^e) = {\\sigma^e_{xx}}^2 - \\sigma^e_{xx} \\sigma^e_{yy} + {\\sigma^e_{yy}}^2 + 3\\,{\\sigma^e_{xy}}^2 - (t\\,f_y)^2 \n",
    "   = \\frac{1}{2}\\, {\\bf\\sigma}^e : {\\bf\\Phi} : {\\bf\\sigma}^e - (t\\,f_y)^2 \n",
    "$$\n",
    "with\n",
    "$$\n",
    "   [{\\bf\\Phi}] = \\left[ \\begin{array}{ccc}\n",
    "      2 & -1 & 0 \\\\\n",
    "      -1 & 2 & 0 \\\\\n",
    "      0 & 0 & 6 \n",
    "   \\end{array} \\right]\n",
    "$$\n",
    "\n",
    "IF ($f>0$): APPLY PLASTIC CORRECTOR STEP"
   ]
  },
  {
   "cell_type": "markdown",
   "id": "5d3573a9",
   "metadata": {},
   "source": [
    "### plastic corrector\n",
    "\n",
    "$$\n",
    "{\\bf r} = \\frac{\\partial f}{\\partial{\\bf\\sigma}} \n",
    "   = {\\bf\\Phi}:{\\bf\\sigma}\n",
    "   = \\left\\{ \\begin{array}{c}\n",
    "      2\\,\\sigma_{xx} - \\sigma_{yy} \\\\\n",
    "      2\\,\\sigma_{yy} - \\sigma_{xx} \\\\\n",
    "      6\\,\\sigma_{xy} \n",
    "   \\end{array} \\right\\}\n",
    "   = \n",
    "   \\left[ \\begin{array}{ccc}\n",
    "      2 & -1 & 0 \\\\\n",
    "      -1 & 2 & 0 \\\\\n",
    "      0 & 0 & 6 \n",
    "   \\end{array} \\right]\n",
    "   \\left\\{ \\begin{array}{c}\n",
    "      \\sigma_{xx} \\\\ \\sigma_{yy} \\\\ \\sigma_{xy} \n",
    "   \\end{array} \\right\\}\n",
    "$$\n",
    "\n",
    "$$\n",
    "   {\\bf\\varepsilon}^p = {\\bf\\varepsilon}^p_n + \\Delta\\gamma \\,{\\bf r}\n",
    "$$\n",
    "\n",
    "Stress update:\n",
    "\n",
    "$$\n",
    "   {\\bf \\sigma} = \\mathbb{C} \\, ({\\bf\\varepsilon} - {\\bf\\varepsilon}^p)\n",
    "    = \\mathbb{C} \\, ({\\bf\\varepsilon} - {\\bf\\varepsilon}^p_n) \n",
    "    - \\Delta\\gamma \\, \\mathbb{C} \\,{\\bf r}\n",
    "    = {\\bf\\sigma^e} - \\Delta\\gamma \\, \\mathbb{C} \\,{\\bf r}\n",
    "$$\n",
    "\n",
    "$$\n",
    "   \\mathbb{C}^{-1} \\,{\\bf \\sigma} \n",
    "    = ({\\bf\\varepsilon} - {\\bf\\varepsilon}^p_n) \n",
    "    - \\Delta\\gamma \\, {\\bf\\Phi} \\,{\\bf \\sigma} \n",
    "$$\n",
    "this leads to\n",
    "$$\n",
    "  {\\bf \\sigma} \n",
    "    = {\\bf\\Xi}:({\\bf\\varepsilon} - {\\bf\\varepsilon}^p_n) \n",
    "$$\n",
    "with\n",
    "$$\n",
    "{\\bf\\Xi} = (\\mathbb{C}^{-1} + \\Delta\\gamma \\, {\\bf\\Phi})^{-1}  ~.\n",
    "$$\n",
    "\n",
    "Consistency condition:\n",
    "\n",
    "$$\n",
    "   f({\\bf\\sigma}) = {\\sigma_{xx}}^2 - \\sigma_{xx} \\sigma_{yy} + {\\sigma_{yy}}^2 + 3\\,{\\sigma_{xy}}^2 - (t\\,f_y)^2 = 0\n",
    "$$\n",
    "yields the consistency parameter $\\Delta\\gamma$ as root of a nonlinear equation.\n",
    "\n",
    "$$\n",
    "$$"
   ]
  },
  {
   "cell_type": "markdown",
   "id": "6b410a49",
   "metadata": {},
   "source": []
  },
  {
   "cell_type": "markdown",
   "id": "8d9f8943",
   "metadata": {},
   "source": []
  },
  {
   "cell_type": "markdown",
   "id": "04e3c72f",
   "metadata": {},
   "source": []
  }
 ],
 "metadata": {
  "kernelspec": {
   "display_name": "Python 3 (ipykernel)",
   "language": "python",
   "name": "python3"
  },
  "language_info": {
   "codemirror_mode": {
    "name": "ipython",
    "version": 3
   },
   "file_extension": ".py",
   "mimetype": "text/x-python",
   "name": "python",
   "nbconvert_exporter": "python",
   "pygments_lexer": "ipython3",
   "version": "3.9.7"
  }
 },
 "nbformat": 4,
 "nbformat_minor": 5
}
