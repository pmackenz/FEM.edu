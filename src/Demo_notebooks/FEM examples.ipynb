{
 "cells": [
  {
   "cell_type": "markdown",
   "id": "9c59a118",
   "metadata": {},
   "source": [
    "# A Finite Element Example"
   ]
  },
  {
   "cell_type": "markdown",
   "id": "59ec54b3",
   "metadata": {},
   "source": [
    "## Load needed components"
   ]
  },
  {
   "cell_type": "code",
   "execution_count": 1,
   "id": "8677f776",
   "metadata": {},
   "outputs": [],
   "source": [
    "from System import System\n",
    "from Node import Node\n",
    "from Truss import Truss\n",
    "from FiberMaterial import FiberMaterial"
   ]
  },
  {
   "cell_type": "markdown",
   "id": "e6818727",
   "metadata": {},
   "source": [
    "## Build a model"
   ]
  },
  {
   "cell_type": "code",
   "execution_count": 2,
   "id": "bc78b102",
   "metadata": {},
   "outputs": [],
   "source": [
    "# initialize a system model\n",
    "B = 6.0 * 12\n",
    "H = 3.0 * 12\n",
    "params = {'E': 10., 'A': 1., 'nu': 0.0, 'fy': 1.e30}\n",
    "\n",
    "model = System()\n",
    "\n",
    "# create nodes\n",
    "nd0 = Node(0.0, 0.0)\n",
    "nd1 = Node(  B, 0.0)\n",
    "nd2 = Node(0.5*B, H)\n",
    "\n",
    "model.addNode(nd0)\n",
    "model.addNode(nd1)\n",
    "model.addNode(nd2)\n",
    "\n",
    "# create elements\n",
    "model.addElement(Truss(nd0, nd1, FiberMaterial(params)))  # bottom 1\n",
    "model.addElement(Truss(nd0, nd2, FiberMaterial(params)))  # up right diag 1\n",
    "model.addElement(Truss(nd1, nd2, FiberMaterial(params)))  # up left diag 1\n",
    "\n",
    "# define support(s)\n",
    "nd0.fixDOF(0)    # horizontal support left end\n",
    "nd0.fixDOF(1)    # vertical support left end\n",
    "nd1.fixDOF(1)    # vertical support right end\n",
    "\n"
   ]
  },
  {
   "cell_type": "markdown",
   "id": "fc41d46e",
   "metadata": {},
   "source": [
    "## Load the model and solve"
   ]
  },
  {
   "cell_type": "code",
   "execution_count": 3,
   "id": "d39cabf8",
   "metadata": {},
   "outputs": [
    {
     "name": "stdout",
     "output_type": "stream",
     "text": [
      "\n",
      "Truss Analysis Report\n",
      "=====================\n",
      "\n",
      "Nodes:\n",
      "---------------------\n",
      "  Node 0:\n",
      "     x:0.0   y:0.0\n",
      "     fix:True fix:True\n",
      "     Px:0.0  Py:0.0\n",
      "     u:0.0   v:0.0\n",
      "  Node 1:\n",
      "     x:72.0   y:0.0\n",
      "     fix:False fix:True\n",
      "     Px:0.0  Py:0.0\n",
      "     u:3.599999999999999   v:0.0\n",
      "  Node 2:\n",
      "     x:36.0   y:36.0\n",
      "     fix:False fix:False\n",
      "     Px:0.0  Py:-1.0\n",
      "     u:1.7999999999999994   v:-6.89116882454314\n",
      "\n",
      "Elements:\n",
      "---------------------\n",
      "  Truss: node 0 to node 1:\n",
      "     material properties: FiberMaterial(Material)({'E': 10.0, 'A': 1.0, 'nu': 0.0, 'fy': 1e+30})  strain:0.04999999999999999   stress:0.4999999999999999  \n",
      "     internal force: 0.4999999999999999\n",
      "     Pe: [ 0.4999999999999999 0.0 ]\n",
      "  Truss: node 0 to node 2:\n",
      "     material properties: FiberMaterial(Material)({'E': 10.0, 'A': 1.0, 'nu': 0.0, 'fy': 1e+30})  strain:-0.07071067811865474   stress:-0.7071067811865474  \n",
      "     internal force: -0.7071067811865474\n",
      "     Pe: [ -0.4999999999999999 -0.4999999999999999 ]\n",
      "  Truss: node 1 to node 2:\n",
      "     material properties: FiberMaterial(Material)({'E': 10.0, 'A': 1.0, 'nu': 0.0, 'fy': 1e+30})  strain:-0.07071067811865472   stress:-0.7071067811865472  \n",
      "     internal force: -0.7071067811865472\n",
      "     Pe: [ 0.49999999999999983 -0.49999999999999983 ]\n",
      "\n"
     ]
    }
   ],
   "source": [
    "# add loads\n",
    "# .. load only the upper nodes\n",
    "nd2.setLoad(0.0, -1.0)\n",
    "\n",
    "# analyze the model\n",
    "model.solve()\n",
    "\n",
    "# write out report\n",
    "model.report()"
   ]
  },
  {
   "cell_type": "code",
   "execution_count": 5,
   "id": "95bd9427",
   "metadata": {},
   "outputs": [
    {
     "data": {
      "image/png": "[encoded data removed]",
      "text/plain": [
       "<Figure size 432x288 with 1 Axes>"
      ]
     },
     "metadata": {
      "needs_background": "light"
     },
     "output_type": "display_data"
    },
    {
     "data": {
      "image/png": "[encoded data removed]",
      "text/plain": [
       "<Figure size 432x288 with 2 Axes>"
      ]
     },
     "metadata": {
      "needs_background": "light"
     },
     "output_type": "display_data"
    }
   ],
   "source": [
    "# create plots\n",
    "model.plot(factor=2.)"
   ]
  },
  {
   "cell_type": "code",
   "execution_count": null,
   "id": "8d4ee5a9",
   "metadata": {},
   "outputs": [],
   "source": []
  },
  {
   "cell_type": "code",
   "execution_count": null,
   "id": "4865fdcf",
   "metadata": {},
   "outputs": [],
   "source": []
  }
 ],
 "metadata": {
  "kernelspec": {
   "display_name": "Python 3 (ipykernel)",
   "language": "python",
   "name": "python3"
  },
  "language_info": {
   "codemirror_mode": {
    "name": "ipython",
    "version": 3
   },
   "file_extension": ".py",
   "mimetype": "text/x-python",
   "name": "python",
   "nbconvert_exporter": "python",
   "pygments_lexer": "ipython3",
   "version": "3.10.8"
  }
 },
 "nbformat": 4,
 "nbformat_minor": 5
}
